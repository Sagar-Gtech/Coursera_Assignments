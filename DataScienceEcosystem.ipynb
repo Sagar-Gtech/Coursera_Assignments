{
 "cells": [
  {
   "cell_type": "markdown",
   "id": "877171e8-eeb3-46c2-8267-b3582d7f3e09",
   "metadata": {},
   "source": [
    "# Data Science Tools and Ecosystem\n"
   ]
  },
  {
   "cell_type": "markdown",
   "id": "4783c876-2fa8-4e89-ad0f-d4b63ababd65",
   "metadata": {},
   "source": [
    "In this notebook the lesson learnt in first few days will be summarized. Also, the tools will demonstrated."
   ]
  },
  {
   "cell_type": "markdown",
   "id": "6d35a6bb-20c6-4659-8146-7338cbbf91f3",
   "metadata": {},
   "source": [
    "Some of the popular languages that Data Scientists use are:\n",
    "1. Python\n",
    "2. R\n",
    "3. Java\n",
    "4. Julia"
   ]
  },
  {
   "cell_type": "markdown",
   "id": "4df27934-8853-476a-9e95-77c80ccc8a83",
   "metadata": {},
   "source": [
    "Some of the commonly used libraries used by Data Scientists include:\n",
    "1. Pandas\n",
    "2. Numpy\n",
    "3. Scikit-Learn\n",
    "4. TensorFlow\n",
    "5. Keras\n",
    "   "
   ]
  },
  {
   "cell_type": "markdown",
   "id": "14a82b7a-6b0f-46e8-bdd4-1354c6b903ae",
   "metadata": {},
   "source": [
    "\n",
    "|Data Science Tools|\n",
    "| --- |\n",
    "| Apache Hadoop |\n",
    "| Keras |\n",
    "| Tensorflow |\n",
    "| Matplotlib |\n"
   ]
  },
  {
   "cell_type": "markdown",
   "id": "40fb61f3-c45e-432a-a78b-dd9fde9e8ec2",
   "metadata": {},
   "source": [
    "### Below are a few examples of evaluating arithmetic expressions in Python "
   ]
  },
  {
   "cell_type": "code",
   "execution_count": 2,
   "id": "2b3ec6e1-457c-41dd-93f2-1eb948e28f1d",
   "metadata": {},
   "outputs": [
    {
     "data": {
      "text/plain": [
       "17"
      ]
     },
     "execution_count": 2,
     "metadata": {},
     "output_type": "execute_result"
    }
   ],
   "source": [
    "# This a simple arithmetic expression to mutiply then add integers\n",
    "(3*4)+5"
   ]
  },
  {
   "cell_type": "code",
   "execution_count": 3,
   "id": "a5df05d2-78a3-4a3e-ad95-0711f9e6aa0a",
   "metadata": {},
   "outputs": [
    {
     "data": {
      "text/plain": [
       "3.3333333333333335"
      ]
     },
     "execution_count": 3,
     "metadata": {},
     "output_type": "execute_result"
    }
   ],
   "source": [
    "# This will convert 200 minutes to hours by diving by 60\n",
    "200 / 60"
   ]
  },
  {
   "cell_type": "markdown",
   "id": "0e286928-812a-417d-b2c2-361eba3652a4",
   "metadata": {},
   "source": [
    "Objectives:\n",
    " \n",
    "- Some of the popular Languanges used for Data Science.\n",
    "- Some of the open source libraries used for Data Science.\n",
    "- Some of the popular tools used for Data Science.\n",
    "- How to create a table in Jupyter notebook.\n",
    "- Some of the basic  arithmetic operation in Jupyter notebook using code cells."
   ]
  },
  {
   "cell_type": "markdown",
   "id": "9f485be6-8f77-4324-949c-805c6620e8dd",
   "metadata": {},
   "source": [
    "## Author\n",
    "Sagar Garud"
   ]
  }
 ],
 "metadata": {
  "kernelspec": {
   "display_name": "Python 3 (ipykernel)",
   "language": "python",
   "name": "python3"
  },
  "language_info": {
   "codemirror_mode": {
    "name": "ipython",
    "version": 3
   },
   "file_extension": ".py",
   "mimetype": "text/x-python",
   "name": "python",
   "nbconvert_exporter": "python",
   "pygments_lexer": "ipython3",
   "version": "3.12.4"
  }
 },
 "nbformat": 4,
 "nbformat_minor": 5
}
